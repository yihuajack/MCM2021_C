{
 "metadata": {
  "language_info": {
   "codemirror_mode": {
    "name": "ipython",
    "version": 3
   },
   "file_extension": ".py",
   "mimetype": "text/x-python",
   "name": "python",
   "nbconvert_exporter": "python",
   "pygments_lexer": "ipython3",
   "version": "3.8.5-final"
  },
  "orig_nbformat": 2,
  "kernelspec": {
   "name": "python3",
   "display_name": "Python 3",
   "language": "python"
  }
 },
 "nbformat": 4,
 "nbformat_minor": 2,
 "cells": [
  {
   "cell_type": "code",
   "execution_count": 3,
   "metadata": {},
   "outputs": [],
   "source": [
    "import matplotlib.pyplot as plt\n",
    "import numpy as np\n",
    "import os\n",
    "import pandas as pd\n",
    "import matplotlib\n",
    "from PIL import Image \n",
    "from pylab import *\n",
    "from sklearn import datasets\n",
    "from sklearn.model_selection import train_test_split\n",
    "from sklearn.preprocessing import StandardScaler\n",
    "from sklearn.neighbors import KNeighborsClassifier"
   ]
  },
  {
   "cell_type": "code",
   "execution_count": 15,
   "metadata": {
    "tags": []
   },
   "outputs": [],
   "source": [
    "def get_imlist(path): \n",
    "    return [os.path.join(path,f) for f in os.listdir(path) if (f.endswith('.jpg') or f.endswith('.png') or f.endswith('.gif'))]\n"
   ]
  },
  {
   "cell_type": "code",
   "execution_count": 26,
   "metadata": {},
   "outputs": [],
   "source": [
    "## img_list = get_imlist(\"F:\\\\SP2021\\\\MCM\\MCM_C\\\\2021MCM_ProblemC_Files\\\\2021MCM_ProblemC_Files\")\n",
    "\n",
    "all_data = pd.read_csv('./data/Joined.csv', encoding='utf-8', index_col='Detection Date')\n",
    "# all_data\n",
    "all_data.index = pd.to_datetime(all_data.index, errors='coerce')\n",
    "all_data = all_data.sort_values(by = 'Detection Date', ascending=True)\n",
    "\n",
    "## positive\n",
    "data_positive = all_data[(all_data['Lab Status'] == \"Positive ID\")]\n",
    "positive_img_list = []\n",
    "x_s, y_s = 250, 250\n",
    "for file in data_positive['FileName']:\n",
    "    im = Image.open(os.path.join(\"F:\\\\SP2021\\\\MCM\\MCM_C\\\\2021MCM_ProblemC_Files\\\\2021MCM_ProblemC_Files\", file))\n",
    "    im1 = im.convert(\"RGB\")                                                        #转为RGB格式\n",
    "    a = np.zeros([max(im1.size[0],im1.size[1]),max(im1.size[0],im1.size[1]),3])      #以最大边长生成0矩阵\n",
    "    img_zero = Image.fromarray(np.uint8(a))                                          #0矩阵转为PIL\n",
    "    img_zero.paste(im1, (0, 0, im1.size[0], im1.size[1]))                       #将原来的图片贴到0矩阵生成的图片上\n",
    "    img = img_zero.resize((150, 150), Image.ANTIALIAS)                          #Image.ANTIALIAS放缩图片质量较高\n",
    "    # img.show() \n",
    "    positive_img_list.append(np.array(img))\n",
    "# Image.fromarray(positive_img_list[2]).show()\n",
    "\n",
    "## negative\n",
    "data_negative = all_data[(all_data['Lab Status'] == \"Negative ID\") & (all_data['FileType'] == 'image/jpg')]\n",
    "negative_img_list = []\n",
    "for file in data_negative['FileName']:\n",
    "    im = Image.open(os.path.join(\"F:\\\\SP2021\\\\MCM\\MCM_C\\\\2021MCM_ProblemC_Files\\\\2021MCM_ProblemC_Files\", file))\n",
    "    im1 = im.convert(\"RGB\")                                                        #转为RGB格式\n",
    "    a = np.zeros([max(im1.size[0],im1.size[1]),max(im1.size[0],im1.size[1]),3])      #以最大边长生成0矩阵\n",
    "    img_zero = Image.fromarray(np.uint8(a))                                          #0矩阵转为PIL\n",
    "    img_zero.paste(im1, (0, 0, im1.size[0], im1.size[1]))                       #将原来的图片贴到0矩阵生成的图片上\n",
    "    img = img_zero.resize((150, 150), Image.ANTIALIAS)                          #Image.ANTIALIAS放缩图片质量较高\n",
    "    # img.show() \n",
    "    negative_img_list.append(np.array(img))"
   ]
  },
  {
   "cell_type": "code",
   "execution_count": 31,
   "metadata": {},
   "outputs": [
    {
     "output_type": "execute_result",
     "data": {
      "text/plain": [
       "Detection Date\n",
       "2019-09-19                           ATT7_20190918_214742.jpg\n",
       "2019-09-19                           ATT6_20190918_235343.jpg\n",
       "2019-09-19                           ATT5_20190918_230100.jpg\n",
       "2019-09-19                           ATT4_20190921_152954.jpg\n",
       "2019-09-30    ATT472_9246EB0A-0DDF-420C-979D-C631943D3BFD.jpg\n",
       "2019-10-30                    ATT2_HoireRDBeekeeperReport.jpg\n",
       "2019-12-08                                  ATT1_DSCN9647.jpg\n",
       "2020-05-15                          ATT369_Langley 16 May.jpg\n",
       "2020-05-27    ATT256_47C3AA1B-C9D4-46FA-9D30-39655ACE1604.jpg\n",
       "2020-06-07                                ATT422_image001.jpg\n",
       "2020-08-17                               ATT2302_image0-2.jpg\n",
       "2020-09-21                    ATT3067_IMG_20200926_091543.jpg\n",
       "2020-09-30                   ATT3141_30SEP20 doorbell cam.png\n",
       "2020-10-01                           ATT3142_KSal 30SEP20.jpg\n",
       "Name: FileName, dtype: object"
      ]
     },
     "metadata": {},
     "execution_count": 31
    }
   ],
   "source": [
    "p = all_data[(all_data['Lab Status'] == \"Positive ID\")]\n",
    "p_list = []\n",
    "for file in p['FileName']:\n",
    "    im = Image.open(os.path.join(\"F:\\\\SP2021\\\\MCM\\MCM_C\\\\2021MCM_ProblemC_Files\\\\2021MCM_ProblemC_Files\", file))\n",
    "    im.resize((250, 250), Image.ANTIALIAS)                          #Image.ANTIALIAS放缩图片质量较高\n",
    "    # img.show()    \n",
    "    p_list.append(np.array(img))\n",
    "p['FileName']"
   ]
  },
  {
   "cell_type": "code",
   "execution_count": 19,
   "metadata": {},
   "outputs": [
    {
     "output_type": "execute_result",
     "data": {
      "text/plain": [
       "(150, 150, 3)"
      ]
     },
     "metadata": {},
     "execution_count": 19
    }
   ],
   "source": [
    "## https://www.jianshu.com/p/3f81f2ae781d\n",
    "\n",
    "positive_img_list[3].shape"
   ]
  }
 ]
}