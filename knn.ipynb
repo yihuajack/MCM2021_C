{
 "metadata": {
  "language_info": {
   "codemirror_mode": {
    "name": "ipython",
    "version": 3
   },
   "file_extension": ".py",
   "mimetype": "text/x-python",
   "name": "python",
   "nbconvert_exporter": "python",
   "pygments_lexer": "ipython3",
   "version": "3.8.5-final"
  },
  "orig_nbformat": 2,
  "kernelspec": {
   "name": "python3",
   "display_name": "Python 3",
   "language": "python"
  }
 },
 "nbformat": 4,
 "nbformat_minor": 2,
 "cells": [
  {
   "cell_type": "code",
   "execution_count": 15,
   "metadata": {},
   "outputs": [],
   "source": [
    "from sklearn.datasets.samples_generator import make_blobs\n",
    "import matplotlib.pyplot as plt\n",
    "import numpy as np\n",
    "import os\n",
    "import pandas as pd\n",
    "import matplotlib\n",
    "from PIL import Image \n",
    "from pylab import *"
   ]
  },
  {
   "cell_type": "code",
   "execution_count": 25,
   "metadata": {
    "tags": []
   },
   "outputs": [],
   "source": [
    "def get_imlist(path): \n",
    "    return [os.path.join(path,f) for f in os.listdir(path) if (f.endswith('.jpg') or f.endswith('.png') or f.endswith('.gif'))]\n",
    "\n",
    "img_list = get_imlist(\"F:\\\\SP2021\\\\MCM\\MCM_C\\\\2021MCM_ProblemC_Files\\\\2021MCM_ProblemC_Files\")\n",
    "\n",
    "all_data = pd.read_csv('./data/Joined.csv', encoding='utf-8', index_col='Detection Date')\n",
    "# all_data\n",
    "all_data.index = pd.to_datetime(all_data.index, errors='coerce')\n",
    "all_data = all_data.sort_values(by = 'Detection Date', ascending=True)\n",
    "data = all_data[(all_data['Lab Status'] == \"Positive ID\")]\n",
    "img_list = []\n",
    "for file in data['FileName']:\n",
    "    im = np.array(Image.open(os.path.join(\"F:\\\\SP2021\\\\MCM\\MCM_C\\\\2021MCM_ProblemC_Files\\\\2021MCM_ProblemC_Files\", file)))\n",
    "    img_list.append(im)\n"
   ]
  }
 ]
}